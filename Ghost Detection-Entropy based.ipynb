{
 "cells": [
  {
   "cell_type": "code",
   "execution_count": 1,
   "metadata": {
    "collapsed": false
   },
   "outputs": [
    {
     "name": "stdout",
     "output_type": "stream",
     "text": [
      "Populating the interactive namespace from numpy and matplotlib\n"
     ]
    }
   ],
   "source": [
    "import IP\n",
    "%pylab inline"
   ]
  },
  {
   "cell_type": "code",
   "execution_count": 82,
   "metadata": {
    "collapsed": false
   },
   "outputs": [],
   "source": [
    "I1 = 255*IP.rgb2gray(IP.imread('pencil_box1.jpg'))\n",
    "I2 = 255*IP.rgb2gray(IP.imread('pencil_box2.jpg'))\n",
    "I3 = 255*IP.rgb2gray(IP.imread('pencil_box3.jpg'))\n",
    "I4 = 255*IP.rgb2gray(IP.imread('pencil_box4.jpg'))"
   ]
  },
  {
   "cell_type": "code",
   "execution_count": 86,
   "metadata": {
    "collapsed": false
   },
   "outputs": [],
   "source": [
    "I_1 = IP.imresize(I1,(512,682))\n",
    "I_2 = IP.imresize(I2,(512,682))\n",
    "I_3 = IP.imresize(I3,(512,682))\n",
    "I_4 = IP.imresize(I4,(512,682))"
   ]
  },
  {
   "cell_type": "code",
   "execution_count": 66,
   "metadata": {
    "collapsed": true
   },
   "outputs": [],
   "source": [
    "def get_histogram(In):\n",
    "    [row,col] = In.shape\n",
    "    histarray = arange(0,256,1)   # This is an array to distribute our gray value\n",
    "    histarray[:] = 0              # initialize the array with zero \n",
    "    for i in range(0,row):\n",
    "        for j in range(0,col):\n",
    "            histarray[In[i,j]] = histarray[In[i,j]]+1 # Treat itensity like the numerical order of the elements in array\n",
    "                                             #and added up the number of the same itensity\n",
    "    return histarray/(row*col)"
   ]
  },
  {
   "cell_type": "code",
   "execution_count": 36,
   "metadata": {
    "collapsed": false,
    "scrolled": true
   },
   "outputs": [],
   "source": [
    "#n,bins,patches = hist(I_1.ravel(),bins=256)"
   ]
  },
  {
   "cell_type": "code",
   "execution_count": 74,
   "metadata": {
    "collapsed": true
   },
   "outputs": [],
   "source": [
    "def entropy_map(I,r):\n",
    "    [height,width]=shape(I)\n",
    "    H = zeros((height,width))\n",
    "    for i in range(r,height-r-1):\n",
    "        for j in range(r,width-r-1):\n",
    "            local = I[i-r:i+r,j-r:j+r]\n",
    "            P = get_histogram(local)\n",
    "            for a in range(0,256):\n",
    "                if P[a]==0:\n",
    "                    H[i,j]=H[i,j]\n",
    "                else: \n",
    "                    H[i,j]=-P[a]*log(P[a])+H[i,j]\n",
    "    return H "
   ]
  },
  {
   "cell_type": "code",
   "execution_count": 7,
   "metadata": {
    "collapsed": true
   },
   "outputs": [],
   "source": [
    "def wei_fun(pixel):\n",
    "    if pixel <= 127:\n",
    "        w_z = pixel*0.9/127 + 0.05\n",
    "    elif pixel > 127:\n",
    "        w_z = ((255-pixel)*0.9/127)+0.05\n",
    "    return w_z"
   ]
  },
  {
   "cell_type": "code",
   "execution_count": 9,
   "metadata": {
    "collapsed": true
   },
   "outputs": [],
   "source": [
    "def Uncertainty_Image(I1,I2,I3,I4,r):\n",
    "    v_sum = zeros((I1.shape[0],I1.shape[1]))\n",
    "    UI = zeros((I1.shape[0],I1.shape[1]))\n",
    "    w1 = zeros((I1.shape[0],I1.shape[1]))\n",
    "    w2 = zeros((I1.shape[0],I1.shape[1]))\n",
    "    w3 = zeros((I1.shape[0],I1.shape[1]))\n",
    "    w4 = zeros((I1.shape[0],I1.shape[1]))\n",
    "    \n",
    "    H1 = entropy_map(I1,r)\n",
    "    print('H1 finished')\n",
    "    H2 = entropy_map(I2,r)\n",
    "    print('H2 finished')\n",
    "    H3 = entropy_map(I3,r)\n",
    "    print('H3 finished')\n",
    "    H4 = entropy_map(I4,r)\n",
    "    print('H4 finished')\n",
    "\n",
    "    for i in range(0,I1.shape[0]):\n",
    "        for j in range(0,I1.shape[1]):\n",
    "            w1[i,j] = wei_fun(I1[i,j])\n",
    "            w2[i,j] = wei_fun(I2[i,j])\n",
    "            w3[i,j] = wei_fun(I3[i,j])\n",
    "            w4[i,j] = wei_fun(I4[i,j])\n",
    "            v_sum[i,j] =min(w2[i,j],w1[i,j])+\\\n",
    "                        min(w3[i,j],w1[i,j])+\\\n",
    "                        min(w3[i,j],w2[i,j])+\\\n",
    "                        min(w4[i,j],w1[i,j])+\\\n",
    "                        min(w4[i,j],w2[i,j])+\\\n",
    "                        min(w4[i,j],w3[i,j])\n",
    "    print('v_sum has been calculated')\n",
    "    \n",
    "    for i in range(0,I1.shape[0]):\n",
    "        for j in range(0,I1.shape[1]):\n",
    "            UI[i,j] = (min(w2[i,j],w1[i,j])*abs(H2[i,j]-H1[i,j])+\\\n",
    "                       min(w3[i,j],w1[i,j])*abs(H3[i,j]-H1[i,j])+\\\n",
    "                       min(w3[i,j],w2[i,j])*abs(H3[i,j]-H2[i,j])+\\\n",
    "                       min(w4[i,j],w1[i,j])*abs(H4[i,j]-H1[i,j])+\\\n",
    "                       min(w4[i,j],w2[i,j])*abs(H4[i,j]-H2[i,j])+\\\n",
    "                       min(w4[i,j],w4[i,j])*abs(H4[i,j]-H3[i,j]))/\\\n",
    "                       v_sum[i,j]\n",
    "            \n",
    "    return UI\n"
   ]
  },
  {
   "cell_type": "code",
   "execution_count": 87,
   "metadata": {
    "collapsed": false,
    "scrolled": true
   },
   "outputs": [
    {
     "name": "stdout",
     "output_type": "stream",
     "text": [
      "H1 finished\n",
      "H2 finished\n",
      "H3 finished\n",
      "H4 finished\n",
      "v_sum has been calculated\n"
     ]
    }
   ],
   "source": [
    "I_UI = Uncertainty_Image(I_1,I_2,I_3,I_4,20) #1:10"
   ]
  },
  {
   "cell_type": "code",
   "execution_count": 88,
   "metadata": {
    "collapsed": false,
    "scrolled": false
   },
   "outputs": [
    {
     "data": {
      "text/plain": [
       "<matplotlib.image.AxesImage at 0x10c1e4f98>"
      ]
     },
     "execution_count": 88,
     "metadata": {},
     "output_type": "execute_result"
    },
    {
     "data": {
      "image/png": "[encoded data removed]",
      "text/plain": [
       "<matplotlib.figure.Figure at 0x10c175eb8>"
      ]
     },
     "metadata": {},
     "output_type": "display_data"
    }
   ],
   "source": [
    "imshow(I_UI>0.7,cmap='gray')"
   ]
  },
  {
   "cell_type": "code",
   "execution_count": 80,
   "metadata": {
    "collapsed": false
   },
   "outputs": [
    {
     "data": {
      "text/plain": [
       "(2448, 3264)"
      ]
     },
     "execution_count": 80,
     "metadata": {},
     "output_type": "execute_result"
    }
   ],
   "source": [
    "I1.shape"
   ]
  },
  {
   "cell_type": "code",
   "execution_count": null,
   "metadata": {
    "collapsed": true
   },
   "outputs": [],
   "source": []
  }
 ],
 "metadata": {
  "kernelspec": {
   "display_name": "Python 3",
   "language": "python",
   "name": "python3"
  },
  "language_info": {
   "codemirror_mode": {
    "name": "ipython",
    "version": 3
   },
   "file_extension": ".py",
   "mimetype": "text/x-python",
   "name": "python",
   "nbconvert_exporter": "python",
   "pygments_lexer": "ipython3",
   "version": "3.4.3"
  }
 },
 "nbformat": 4,
 "nbformat_minor": 0
}
